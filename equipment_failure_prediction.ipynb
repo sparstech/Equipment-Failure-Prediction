{
 "cells": [
  {
   "cell_type": "markdown",
   "id": "fdc07e92",
   "metadata": {},
   "source": [
    "\n",
    "# 🛠️ Equipment Failure Prediction (Predictive Maintenance)\n",
    "**Project Goal:** Predict the *Remaining Useful Life (RUL)* of an oilfield pump using sensor data.\n",
    "\n",
    "---\n",
    "### Objectives\n",
    "- Perform exploratory data analysis (EDA) on sensor readings\n",
    "- Train regression models to predict RUL\n",
    "- Use cross-validation for model evaluation\n",
    "- Apply SHAP for feature importance and interpretability\n",
    "- Visualize results with interactive plots\n"
   ]
  },
  {
   "cell_type": "code",
   "execution_count": null,
   "id": "8a80673d",
   "metadata": {},
   "outputs": [],
   "source": [
    "\n",
    "import pandas as pd\n",
    "import numpy as np\n",
    "import matplotlib.pyplot as plt\n",
    "import seaborn as sns\n",
    "import shap\n",
    "import plotly.express as px\n",
    "\n",
    "from sklearn.model_selection import train_test_split, KFold, cross_val_score\n",
    "from sklearn.ensemble import RandomForestRegressor\n",
    "from xgboost import XGBRegressor\n",
    "from sklearn.metrics import mean_squared_error, r2_score\n"
   ]
  },
  {
   "cell_type": "code",
   "execution_count": null,
   "id": "0a9b75fa",
   "metadata": {},
   "outputs": [],
   "source": [
    "\n",
    "# Load the synthetic dataset\n",
    "df = pd.read_csv('equipment_failure_data.csv')\n",
    "df.head()\n"
   ]
  },
  {
   "cell_type": "code",
   "execution_count": null,
   "id": "33f4980c",
   "metadata": {},
   "outputs": [],
   "source": [
    "\n",
    "# Basic info and summary\n",
    "display(df.describe())\n",
    "display(df.info())\n",
    "\n",
    "# Correlation heatmap\n",
    "plt.figure(figsize=(10,6))\n",
    "sns.heatmap(df.corr(), annot=True, fmt=\".2f\", cmap=\"coolwarm\")\n",
    "plt.title(\"Correlation Heatmap of Sensor Data\")\n",
    "plt.show()\n",
    "\n",
    "# Example sensor trend\n",
    "fig = px.line(df.head(500), x='timestamp', y=['pressure','temperature','vibration'], title='Sensor Trends (first 500 hours)')\n",
    "fig.show()\n"
   ]
  },
  {
   "cell_type": "code",
   "execution_count": null,
   "id": "88a9ef5b",
   "metadata": {},
   "outputs": [],
   "source": [
    "\n",
    "# Feature selection\n",
    "features = ['pressure','temperature','vibration','flow_rate','current_draw','run_time_hours','maintenance_flag']\n",
    "target = 'RUL'\n",
    "\n",
    "X = df[features]\n",
    "y = df[target]\n",
    "\n",
    "# Train-test split\n",
    "X_train, X_test, y_train, y_test = train_test_split(X, y, test_size=0.2, random_state=42)\n"
   ]
  },
  {
   "cell_type": "code",
   "execution_count": null,
   "id": "24fd0ee8",
   "metadata": {},
   "outputs": [],
   "source": [
    "\n",
    "# Random Forest Model\n",
    "rf = RandomForestRegressor(n_estimators=200, random_state=42)\n",
    "rf.fit(X_train, y_train)\n",
    "y_pred_rf = rf.predict(X_test)\n",
    "\n",
    "# XGBoost Model\n",
    "xgb = XGBRegressor(n_estimators=300, learning_rate=0.05, max_depth=6, random_state=42)\n",
    "xgb.fit(X_train, y_train)\n",
    "y_pred_xgb = xgb.predict(X_test)\n",
    "\n",
    "# Evaluate models\n",
    "def evaluate(model_name, y_true, y_pred):\n",
    "    rmse = np.sqrt(mean_squared_error(y_true, y_pred))\n",
    "    r2 = r2_score(y_true, y_pred)\n",
    "    print(f\"{model_name} — RMSE: {rmse:.2f}, R²: {r2:.3f}\")\n",
    "\n",
    "evaluate(\"Random Forest\", y_test, y_pred_rf)\n",
    "evaluate(\"XGBoost\", y_test, y_pred_xgb)\n"
   ]
  },
  {
   "cell_type": "code",
   "execution_count": null,
   "id": "b75ae9fd",
   "metadata": {},
   "outputs": [],
   "source": [
    "\n",
    "kf = KFold(n_splits=5, shuffle=True, random_state=42)\n",
    "cv_scores = cross_val_score(rf, X, y, cv=kf, scoring='r2')\n",
    "print(\"Cross-Validation R² Scores:\", cv_scores)\n",
    "print(\"Average R²:\", np.mean(cv_scores))\n"
   ]
  },
  {
   "cell_type": "code",
   "execution_count": null,
   "id": "7961b114",
   "metadata": {},
   "outputs": [],
   "source": [
    "\n",
    "explainer = shap.TreeExplainer(rf)\n",
    "shap_values = explainer.shap_values(X_test)\n",
    "\n",
    "# Summary plot\n",
    "shap.summary_plot(shap_values, X_test, plot_type=\"bar\")\n"
   ]
  },
  {
   "cell_type": "code",
   "execution_count": null,
   "id": "16eb3355",
   "metadata": {},
   "outputs": [],
   "source": [
    "\n",
    "# Predicted vs Actual\n",
    "fig = px.scatter(x=y_test, y=y_pred_rf, labels={'x':'Actual RUL','y':'Predicted RUL'}, title='Predicted vs Actual RUL (Random Forest)')\n",
    "fig.add_shape(type='line', x0=0, y0=0, x1=max(y_test), y1=max(y_test), line=dict(dash='dot'))\n",
    "fig.show()\n",
    "\n",
    "# Feature Importance\n",
    "importances = pd.Series(rf.feature_importances_, index=features).sort_values(ascending=False)\n",
    "fig = px.bar(importances, title=\"Feature Importance (Random Forest)\")\n",
    "fig.show()\n"
   ]
  }
 ],
 "metadata": {},
 "nbformat": 4,
 "nbformat_minor": 5
}
